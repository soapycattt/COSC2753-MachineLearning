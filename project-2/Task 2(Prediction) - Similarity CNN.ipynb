{
 "cells": [
  {
   "cell_type": "code",
   "execution_count": 1,
   "id": "36819fac-02ad-4756-9e94-0347aaa50e2b",
   "metadata": {},
   "outputs": [],
   "source": [
    "import os\n",
    "from tensorflow.keras.models import load_model\n",
    "import matplotlib.pyplot as plt\n",
    "import cv2\n",
    "import numpy as np\n",
    "import pandas as pd "
   ]
  },
  {
   "cell_type": "code",
   "execution_count": 3,
   "id": "b982875f-2d1e-48de-9398-002b076261c4",
   "metadata": {},
   "outputs": [
    {
     "data": {
      "text/plain": [
       "'hello'"
      ]
     },
     "execution_count": 3,
     "metadata": {},
     "output_type": "execute_result"
    }
   ],
   "source": [
    "'hello'"
   ]
  },
  {
   "cell_type": "markdown",
   "id": "43dd9c63-49cf-4f82-b458-926f446cc099",
   "metadata": {},
   "source": [
    "## Load persisted model and dataset"
   ]
  },
  {
   "cell_type": "code",
   "execution_count": 6,
   "id": "143e2b4a-8675-44d9-a2a7-0eaaefed2a35",
   "metadata": {},
   "outputs": [
    {
     "data": {
      "text/plain": [
       "<keras.engine.sequential.Sequential at 0x2a0a69870>"
      ]
     },
     "execution_count": 6,
     "metadata": {},
     "output_type": "execute_result"
    }
   ],
   "source": [
    "# load model\n",
    "model_dir = \"./models\"\n",
    "model_h5_file = os.path.join(model_dir, \"model_task_2_cnn_classification.h5\")\n",
    "\n",
    "model = load_model(model_h5_file)\n",
    "model"
   ]
  },
  {
   "cell_type": "code",
   "execution_count": 16,
   "id": "82e2416d-df08-4127-9656-ff4c37e51b5e",
   "metadata": {},
   "outputs": [
    {
     "data": {
      "text/plain": [
       "path                object\n",
       "furniture           object\n",
       "style               object\n",
       "histogram           object\n",
       "texture_feature     object\n",
       "compactness        float64\n",
       "dtype: object"
      ]
     },
     "execution_count": 16,
     "metadata": {},
     "output_type": "execute_result"
    }
   ],
   "source": [
    "# Load Dataset\n",
    "data_file_path = \"./data/similarities.csv\"\n",
    "df = pd.read_csv(data_file_path)\n",
    "\n",
    "# Note: Numpy array is treated as string here \n",
    "df.dtypes"
   ]
  },
  {
   "cell_type": "markdown",
   "id": "5b964b07-895d-40cf-9b5f-8e135c7bef00",
   "metadata": {},
   "source": [
    "## TODO: Prediction"
   ]
  },
  {
   "cell_type": "code",
   "execution_count": 17,
   "id": "0129f748-35c7-411d-a928-097788fd82da",
   "metadata": {},
   "outputs": [
    {
     "data": {
      "text/plain": [
       "'[0.         0.         0.         ... 0.00124299 0.00370335 0.9985467 ]'"
      ]
     },
     "execution_count": 17,
     "metadata": {},
     "output_type": "execute_result"
    }
   ],
   "source": [
    "df.histogram[0]"
   ]
  },
  {
   "cell_type": "code",
   "execution_count": 18,
   "id": "da9615f7-890d-4d0c-9464-aefa66623f73",
   "metadata": {},
   "outputs": [
    {
     "data": {
      "text/plain": [
       "71"
      ]
     },
     "execution_count": 18,
     "metadata": {},
     "output_type": "execute_result"
    }
   ],
   "source": [
    "len(df.histogram[0])"
   ]
  },
  {
   "cell_type": "code",
   "execution_count": null,
   "id": "144558b7-d399-43e4-9878-820f697500a9",
   "metadata": {},
   "outputs": [],
   "source": []
  }
 ],
 "metadata": {
  "kernelspec": {
   "display_name": "ml_env",
   "language": "python",
   "name": "ml_env"
  },
  "language_info": {
   "codemirror_mode": {
    "name": "ipython",
    "version": 3
   },
   "file_extension": ".py",
   "mimetype": "text/x-python",
   "name": "python",
   "nbconvert_exporter": "python",
   "pygments_lexer": "ipython3",
   "version": "3.10.8"
  }
 },
 "nbformat": 4,
 "nbformat_minor": 5
}
