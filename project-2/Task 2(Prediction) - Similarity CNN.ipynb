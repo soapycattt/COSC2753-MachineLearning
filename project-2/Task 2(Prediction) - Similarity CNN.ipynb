{
 "cells": [
  {
   "cell_type": "markdown",
   "id": "5435d767-15d6-43dc-801c-0eb41f02504b",
   "metadata": {},
   "source": [
    "Assumoption:\n",
    "- A1: Have model\n",
    "- A2: Have all images arr loaded from transformed\n",
    "\n",
    "Steps:\n",
    "- S2: Remove classfication layer (last 2 layer)\n",
    "- S3: Predict all test images (result as encoded array) aka feature vectors \n",
    "- S4: Build KDTree index\n",
    "- S5: find similar images"
   ]
  },
  {
   "cell_type": "code",
   "execution_count": 15,
   "id": "36819fac-02ad-4756-9e94-0347aaa50e2b",
   "metadata": {},
   "outputs": [],
   "source": [
    "import os\n",
    "from tensorflow.keras import models\n",
    "import matplotlib.pyplot as plt\n",
    "import cv2\n",
    "import numpy as np\n",
    "import pandas as pd \n",
    "import pyarrow.parquet as pq"
   ]
  },
  {
   "cell_type": "markdown",
   "id": "43dd9c63-49cf-4f82-b458-926f446cc099",
   "metadata": {},
   "source": [
    "### Load persisted model"
   ]
  },
  {
   "cell_type": "code",
   "execution_count": 16,
   "id": "143e2b4a-8675-44d9-a2a7-0eaaefed2a35",
   "metadata": {},
   "outputs": [
    {
     "data": {
      "text/plain": [
       "<keras.engine.sequential.Sequential at 0xbb299cd30>"
      ]
     },
     "execution_count": 16,
     "metadata": {},
     "output_type": "execute_result"
    }
   ],
   "source": [
    "# load model\n",
    "model_dir = \"./models\"\n",
    "model_h5_file = os.path.join(model_dir, \"model_task_2_cnn_classification.h5\")\n",
    "\n",
    "model = models.load_model(model_h5_file)\n",
    "model"
   ]
  },
  {
   "cell_type": "code",
   "execution_count": 21,
   "id": "769a2fa6-9367-4fc9-9b70-8b84b409f2c2",
   "metadata": {},
   "outputs": [
    {
     "data": {
      "text/plain": [
       "<keras.engine.sequential.Sequential at 0xbb474afe0>"
      ]
     },
     "execution_count": 21,
     "metadata": {},
     "output_type": "execute_result"
    }
   ],
   "source": [
    "# Alternatively, you can create a new model that excludes the dense layers\n",
    "\n",
    "encoder = models.Sequential()\n",
    "for layer in model.layers[:-2]:  # Exclude the last two layers (flatten and dense)\n",
    "    encoder.add(layer)\n",
    "encoder"
   ]
  },
  {
   "cell_type": "markdown",
   "id": "a28abacf-d649-4a5f-a9e5-e8ffd1620b21",
   "metadata": {},
   "source": [
    "### Load dataset"
   ]
  },
  {
   "cell_type": "code",
   "execution_count": 10,
   "id": "82e2416d-df08-4127-9656-ff4c37e51b5e",
   "metadata": {
    "scrolled": true
   },
   "outputs": [
    {
     "data": {
      "text/html": [
       "<div>\n",
       "<style scoped>\n",
       "    .dataframe tbody tr th:only-of-type {\n",
       "        vertical-align: middle;\n",
       "    }\n",
       "\n",
       "    .dataframe tbody tr th {\n",
       "        vertical-align: top;\n",
       "    }\n",
       "\n",
       "    .dataframe thead th {\n",
       "        text-align: right;\n",
       "    }\n",
       "</style>\n",
       "<table border=\"1\" class=\"dataframe\">\n",
       "  <thead>\n",
       "    <tr style=\"text-align: right;\">\n",
       "      <th></th>\n",
       "      <th>path</th>\n",
       "      <th>furniture</th>\n",
       "      <th>style</th>\n",
       "    </tr>\n",
       "  </thead>\n",
       "  <tbody>\n",
       "    <tr>\n",
       "      <th>0</th>\n",
       "      <td>./Furniture_Data/tables/Eclectic/4029eclectic-...</td>\n",
       "      <td>table</td>\n",
       "      <td>eclectic</td>\n",
       "    </tr>\n",
       "    <tr>\n",
       "      <th>1</th>\n",
       "      <td>./Furniture_Data/tables/Eclectic/4107eclectic-...</td>\n",
       "      <td>table</td>\n",
       "      <td>eclectic</td>\n",
       "    </tr>\n",
       "    <tr>\n",
       "      <th>2</th>\n",
       "      <td>./Furniture_Data/tables/Eclectic/3885eclectic-...</td>\n",
       "      <td>table</td>\n",
       "      <td>eclectic</td>\n",
       "    </tr>\n",
       "    <tr>\n",
       "      <th>3</th>\n",
       "      <td>./Furniture_Data/tables/Eclectic/4040eclectic-...</td>\n",
       "      <td>table</td>\n",
       "      <td>eclectic</td>\n",
       "    </tr>\n",
       "    <tr>\n",
       "      <th>4</th>\n",
       "      <td>./Furniture_Data/tables/Eclectic/4171eclectic-...</td>\n",
       "      <td>table</td>\n",
       "      <td>eclectic</td>\n",
       "    </tr>\n",
       "  </tbody>\n",
       "</table>\n",
       "</div>"
      ],
      "text/plain": [
       "                                                path furniture     style\n",
       "0  ./Furniture_Data/tables/Eclectic/4029eclectic-...     table  eclectic\n",
       "1  ./Furniture_Data/tables/Eclectic/4107eclectic-...     table  eclectic\n",
       "2  ./Furniture_Data/tables/Eclectic/3885eclectic-...     table  eclectic\n",
       "3  ./Furniture_Data/tables/Eclectic/4040eclectic-...     table  eclectic\n",
       "4  ./Furniture_Data/tables/Eclectic/4171eclectic-...     table  eclectic"
      ]
     },
     "execution_count": 10,
     "metadata": {},
     "output_type": "execute_result"
    }
   ],
   "source": [
    "test_df_path = './data/raws.parquet'\n",
    "df = pd.read_parquet(test_df_path)\n",
    "df.head()"
   ]
  },
  {
   "cell_type": "markdown",
   "id": "5b964b07-895d-40cf-9b5f-8e135c7bef00",
   "metadata": {},
   "source": [
    "## TODO: Prediction"
   ]
  },
  {
   "cell_type": "code",
   "execution_count": 17,
   "id": "0129f748-35c7-411d-a928-097788fd82da",
   "metadata": {},
   "outputs": [
    {
     "data": {
      "text/plain": [
       "'[0.         0.         0.         ... 0.00124299 0.00370335 0.9985467 ]'"
      ]
     },
     "execution_count": 17,
     "metadata": {},
     "output_type": "execute_result"
    }
   ],
   "source": [
    "df.histogram[0]"
   ]
  },
  {
   "cell_type": "code",
   "execution_count": 18,
   "id": "da9615f7-890d-4d0c-9464-aefa66623f73",
   "metadata": {},
   "outputs": [
    {
     "data": {
      "text/plain": [
       "71"
      ]
     },
     "execution_count": 18,
     "metadata": {},
     "output_type": "execute_result"
    }
   ],
   "source": [
    "len(df.histogram[0])"
   ]
  },
  {
   "cell_type": "code",
   "execution_count": null,
   "id": "144558b7-d399-43e4-9878-820f697500a9",
   "metadata": {},
   "outputs": [],
   "source": []
  }
 ],
 "metadata": {
  "kernelspec": {
   "display_name": "ml_env",
   "language": "python",
   "name": "ml_env"
  },
  "language_info": {
   "codemirror_mode": {
    "name": "ipython",
    "version": 3
   },
   "file_extension": ".py",
   "mimetype": "text/x-python",
   "name": "python",
   "nbconvert_exporter": "python",
   "pygments_lexer": "ipython3",
   "version": "3.10.8"
  }
 },
 "nbformat": 4,
 "nbformat_minor": 5
}
