{
 "cells": [
  {
   "cell_type": "code",
   "execution_count": 33,
   "id": "c6bdccbe-7bb7-4be4-abbf-497d7a32441f",
   "metadata": {},
   "outputs": [],
   "source": [
    "import os \n",
    "import pandas as pd\n",
    "import cv2"
   ]
  },
  {
   "cell_type": "code",
   "execution_count": 6,
   "id": "7f2963bf-9231-4d00-97b8-f2d54a94698b",
   "metadata": {},
   "outputs": [],
   "source": [
    "def get_labels() -> list[dict]:\n",
    "    furniture_path = './Furniture_Data'\n",
    "    labels =  []\n",
    "    for root, _, files in os.walk(furniture_path):\n",
    "        for file in files:\n",
    "            if file.endswith('.jpg'):\n",
    "                \n",
    "                path = os.path.join(root, file)\n",
    "                dirs = path.split(os.path.sep)\n",
    "\n",
    "                furniture = dirs[2][:-1] #Remove trailing `s` \n",
    "                style = dirs[3].lower() #lowercase\n",
    "\n",
    "                label = {\n",
    "                    'path': path,\n",
    "                    'furniture': furniture,\n",
    "                    'style': style\n",
    "                }\n",
    "\n",
    "                labels.append(label)\n",
    "\n",
    "    return labels\n",
    "\n",
    "labels = get_labels()\n",
    "df = pd.DataFrame(labels)"
   ]
  },
  {
   "cell_type": "code",
   "execution_count": 7,
   "id": "4c08635c-302c-492d-8d6c-22381fcda32e",
   "metadata": {},
   "outputs": [
    {
     "data": {
      "text/html": [
       "<div>\n",
       "<style scoped>\n",
       "    .dataframe tbody tr th:only-of-type {\n",
       "        vertical-align: middle;\n",
       "    }\n",
       "\n",
       "    .dataframe tbody tr th {\n",
       "        vertical-align: top;\n",
       "    }\n",
       "\n",
       "    .dataframe thead th {\n",
       "        text-align: right;\n",
       "    }\n",
       "</style>\n",
       "<table border=\"1\" class=\"dataframe\">\n",
       "  <thead>\n",
       "    <tr style=\"text-align: right;\">\n",
       "      <th></th>\n",
       "      <th>path</th>\n",
       "      <th>furniture</th>\n",
       "      <th>style</th>\n",
       "    </tr>\n",
       "  </thead>\n",
       "  <tbody>\n",
       "    <tr>\n",
       "      <th>0</th>\n",
       "      <td>./Furniture_Data/tables/Eclectic/4029eclectic-...</td>\n",
       "      <td>table</td>\n",
       "      <td>eclectic</td>\n",
       "    </tr>\n",
       "    <tr>\n",
       "      <th>1</th>\n",
       "      <td>./Furniture_Data/tables/Eclectic/4107eclectic-...</td>\n",
       "      <td>table</td>\n",
       "      <td>eclectic</td>\n",
       "    </tr>\n",
       "    <tr>\n",
       "      <th>2</th>\n",
       "      <td>./Furniture_Data/tables/Eclectic/3885eclectic-...</td>\n",
       "      <td>table</td>\n",
       "      <td>eclectic</td>\n",
       "    </tr>\n",
       "    <tr>\n",
       "      <th>3</th>\n",
       "      <td>./Furniture_Data/tables/Eclectic/4040eclectic-...</td>\n",
       "      <td>table</td>\n",
       "      <td>eclectic</td>\n",
       "    </tr>\n",
       "    <tr>\n",
       "      <th>4</th>\n",
       "      <td>./Furniture_Data/tables/Eclectic/4171eclectic-...</td>\n",
       "      <td>table</td>\n",
       "      <td>eclectic</td>\n",
       "    </tr>\n",
       "  </tbody>\n",
       "</table>\n",
       "</div>"
      ],
      "text/plain": [
       "                                                path furniture     style\n",
       "0  ./Furniture_Data/tables/Eclectic/4029eclectic-...     table  eclectic\n",
       "1  ./Furniture_Data/tables/Eclectic/4107eclectic-...     table  eclectic\n",
       "2  ./Furniture_Data/tables/Eclectic/3885eclectic-...     table  eclectic\n",
       "3  ./Furniture_Data/tables/Eclectic/4040eclectic-...     table  eclectic\n",
       "4  ./Furniture_Data/tables/Eclectic/4171eclectic-...     table  eclectic"
      ]
     },
     "execution_count": 7,
     "metadata": {},
     "output_type": "execute_result"
    }
   ],
   "source": [
    "df.head()"
   ]
  },
  {
   "cell_type": "markdown",
   "id": "efafc9f9-39f4-4b7a-b4e0-e512fce5203c",
   "metadata": {},
   "source": [
    "Try to apply following data augmentation techniques \n",
    "- Flip\n",
    "- Rotate\n",
    "- Histogram Equalization"
   ]
  },
  {
   "cell_type": "code",
   "execution_count": 8,
   "id": "7ea08e87-20fe-437c-8056-4a3b810a019c",
   "metadata": {},
   "outputs": [],
   "source": [
    "# Function for histogram equalization\n",
    "def hist_equal(img):\n",
    "    img_to_yuv = cv2.cvtColor(img, cv2.COLOR_BGR2YUV)\n",
    "    img_to_yuv[:, :, 0] = cv2.equalizeHist(img_to_yuv[:, :, 0])\n",
    "    hist_equalization_result = cv2.cvtColor(img_to_yuv, cv2.COLOR_YUV2BGR)\n",
    "    return hist_equalization_result"
   ]
  },
  {
   "cell_type": "code",
   "execution_count": 9,
   "id": "5a343d3e-bd1a-4571-b071-9be63432e2da",
   "metadata": {},
   "outputs": [],
   "source": [
    "# Function for image zooming\n",
    "def zoom_image(image, scale, center):\n",
    "    \n",
    "    height, width = image.shape[:2]\n",
    "    new_height = int(height * scale)\n",
    "    new_width = int(width * scale)\n",
    "\n",
    "    zoomed_image = cv2.resize(image, (new_width, new_height))\n",
    "    x = int(center[0] - width / 2)\n",
    "    y = int(center[1] - width / 2)\n",
    "    roi = zoomed_image[y : y + height, x : x + width]\n",
    "\n",
    "    return roi"
   ]
  },
  {
   "cell_type": "code",
   "execution_count": 65,
   "id": "956675fe-91e9-4766-befe-beda7ef9fc82",
   "metadata": {},
   "outputs": [],
   "source": [
    "# Function for image augmentation\n",
    "def image_augmentation(image):\n",
    "    flip_h = cv2.flip(image, 0) # Flip image horizontally\n",
    "\n",
    "    # Get image dimensions\n",
    "    height, width = flip_h.shape[:2]\n",
    "\n",
    "    # Define the zoom factor (e.g., zooming in by a factor of 1.5)\n",
    "    zoom_factor = 1.5\n",
    "\n",
    "    # Calculate the new dimensions after zooming\n",
    "    new_height = int(height * zoom_factor)\n",
    "    new_width = int(width * zoom_factor)\n",
    "\n",
    "    zoomed_image = cv2.resize(image, (new_width, new_height))\n",
    "    histogram = hist(image)\n",
    "    adjusted = cv2.convertScaleAbs(histogram, alpha = 1.0, beta = 5) # Adjust image's contrast and brightness\n",
    "\n",
    "    return adjusted"
   ]
  },
  {
   "cell_type": "markdown",
   "id": "15a82280-cd10-41be-ab34-234720e76d2b",
   "metadata": {},
   "source": [
    "**Resampling Problem**\n",
    "- Flowers: Only have 1 layer of category. Can easily resampling by just calculate the different between each category with the amount of the category with the max number.\n",
    "   - Technique: Transform the curr scanned image until the current number of category matches the maximum amount\n",
    "- Furniture: Have 2 layers of categories\n",
    "  - Naive resampling: Can evenly distribute across furnitures, however styles distribution can be uneven \n",
    "  - More cater resampling techniques (Proposed)\n",
    "    0. Copy curr image folders to `Transformed-Furnitures`\n",
    "    1. Get the amount of the style of the furniture with maximum amount. Assign to `maximum_amount`\n",
    "    2. (Optional) Remove that style of the furniture if's smaller than <threshold> (suggest 5% compared to max amount)\n",
    "    3. Loop thru each image of the category and apply the transformation.\n",
    "      3a. Increment the `current_amount` by 1\n",
    "      3b. Saved the new image to corresponding category in `Transformed Furnitures`\n",
    "    5. Break if `current_amount` doesn't match `maximum_amount`\n",
    "    6. Continue until end of the loop. If the `current_amount` still doesn't match the `maximum_amount`, then repeat step 3,4 and 5."
   ]
  },
  {
   "cell_type": "markdown",
   "id": "4d608eac-89be-4b28-b7a6-ae01c471166e",
   "metadata": {},
   "source": [
    "Copy raw images dir to transformed images dir"
   ]
  },
  {
   "cell_type": "code",
   "execution_count": 84,
   "id": "a1a29daa-cb74-4e54-ba52-b3751ce59cb7",
   "metadata": {},
   "outputs": [],
   "source": [
    "raw_furniture_path = './Furniture_Data'\n",
    "transformed_furniture_path = './Transfomed_Furniture_Data'"
   ]
  },
  {
   "cell_type": "code",
   "execution_count": 17,
   "id": "def5d308-ae95-4d59-8189-8d8461192fd8",
   "metadata": {},
   "outputs": [],
   "source": [
    "def copy_images_dir():\n",
    "    # Terminal commands to remove the 'transformed-images' folder if it exists\n",
    "    if not os.path.exists(transformed_images_folder):\n",
    "        remove_command = f\"rm -rf {transformed_furniture_path}\"\n",
    "        os.system(remove_command)\n",
    "        print(f\"Removed '{transformed_furniture_path}' folder.\")\n",
    "        \n",
    "        # Terminal command to copy images to the 'transformed-images' folder\n",
    "        copy_command = f\"cp -r {raw_furniture_path} {transformed_furniture_path}\"\n",
    "        os.system(copy_command)\n",
    "        print(\"Copying completed successfully.\")\n",
    "        copy_images_dir()\n",
    "    else:\n",
    "        print(\"Folder already exist\")\n",
    "\n",
    "copy_images_dir()"
   ]
  },
  {
   "cell_type": "markdown",
   "id": "5cbf8002-c08c-4d23-b1d8-bb15d2278b97",
   "metadata": {},
   "source": [
    "Calculate Furniture Style's maximum amount"
   ]
  },
  {
   "cell_type": "code",
   "execution_count": 24,
   "id": "cdac9e97-58ba-42ed-a944-dfc0c0897666",
   "metadata": {},
   "outputs": [
    {
     "data": {
      "text/plain": [
       "5343"
      ]
     },
     "execution_count": 24,
     "metadata": {},
     "output_type": "execute_result"
    }
   ],
   "source": [
    "max_amount = df.groupby(['furniture', 'style']).size().max()\n",
    "max_amount\n"
   ]
  },
  {
   "cell_type": "markdown",
   "id": "f7e74f69-5fb6-4f7c-9be0-3ce6aff3fda2",
   "metadata": {},
   "source": [
    "Get combinations of furniture and style unique values \n"
   ]
  },
  {
   "cell_type": "code",
   "execution_count": 45,
   "id": "038f6aca-44b9-45a2-907b-0b7ceaac92a5",
   "metadata": {},
   "outputs": [
    {
     "data": {
      "text/plain": [
       "rec.array([('table', 'eclectic'), ('table', 'midcentury'),\n",
       "           ('table', 'craftsman'), ('table', 'victorian'),\n",
       "           ('table', 'transitional')],\n",
       "          dtype=[('furniture', 'O'), ('style', 'O')])"
      ]
     },
     "execution_count": 45,
     "metadata": {},
     "output_type": "execute_result"
    }
   ],
   "source": [
    "category_combinations = df[['furniture', 'style']].drop_duplicates().to_records(index=False)\n",
    "category_combinations[:5]"
   ]
  },
  {
   "cell_type": "code",
   "execution_count": 135,
   "id": "f5f77b7a-3e18-440c-94d9-54209d855517",
   "metadata": {},
   "outputs": [],
   "source": [
    "import random\n",
    "from scipy import ndimage\n",
    "\n",
    "\n",
    "def clear_all_transformed_images():\n",
    "    # Clear images with pattern \"resized\" or \"augmented\"\n",
    "    ...\n",
    "\n",
    "def resize_image(df_category: pd.DataFrame) -> int:\n",
    "    \"\"\"\n",
    "    Args:\n",
    "    - df_category(pd.Dataframe)\n",
    "    Return:\n",
    "    - pd.Dataframe: New dataframe with initial images and resized images\n",
    "    \"\"\"\n",
    "    # df_resized = df_category.copy(deep=True)\n",
    "    resized_data = []\n",
    "    \n",
    "    for _, record in df_category.iterrows():\n",
    "        # Read Image\n",
    "        print('Read Image')\n",
    "        img_arr = cv2.imread(record['path'])\n",
    "        \n",
    "        # Resize\n",
    "        print('Resize')\n",
    "        resized_img_arr = cv2.resize(img_arr, (150, 150))\n",
    "        \n",
    "        # Generate a name: {current_name}-resized\n",
    "        file_path, _ = os.path.splitext(record['path'])\n",
    "        file_path = file_path.replace(raw_furniture_path, transformed_furniture_path)\n",
    "        \n",
    "        resized_path = f\"{file_path}-resized.jpg\"\n",
    "        \n",
    "        # Write output  and get path\n",
    "        print(f'Write resized image to disk {resized_path}')\n",
    "        cv2.imwrite(resized_path, resized_img_arr)\n",
    "        \n",
    "        # Append new record to list\n",
    "        print('Append to list')\n",
    "        resized_data.append((\n",
    "            resized_path,\n",
    "            record['furniture'],\n",
    "            record['style']\n",
    "        ))\n",
    "    \n",
    "    \n",
    "    df_resized = pd.DataFrame(resized_data, columns=df_category.columns)\n",
    "    return pd.concat([df_category, df_resized], ignore_index=True)\n",
    "\n",
    "def advanced_transform(df_transform):\n",
    "    current_amount = len(df_transform)\n",
    "    augmented_data = []\n",
    "    \n",
    "    while current_amount < max_amount:\n",
    "        # Pick random img file\n",
    "        print('Pick random img')\n",
    "        random_df_index = random.choice(df_transform.index.to_list())\n",
    "        random_df_record = df_transform.iloc[random_df_index]\n",
    "        \n",
    "        random_img_file_path = random_df_record['path'] \n",
    "        \n",
    "        #  Augment the img \n",
    "        print('Start augment the img')\n",
    "        random_img_arr = cv2.imread(random_img_file_path)\n",
    "        augmented_img_arr = image_augmentation(random_img_arr)\n",
    "\n",
    "\n",
    "        # Gen file path\n",
    "        file_path, _ = os.path.splitext(random_img_file_path)\n",
    "        augmented_img_file_path = f\"{file_path}-augmented-{current_amount}.jpg\"\n",
    "\n",
    "        # Write augmented image to disk\n",
    "        print(f'Write augmeted image to disk {augmented_img_file_path}')\n",
    "        cv2.imwrite(augmented_img_file_path, augmented_img_arr)\n",
    "        \n",
    "        # Store new data\n",
    "        augmented_data.append((\n",
    "            augmented_img_file_path,\n",
    "            random_df_record['furniture'],\n",
    "            random_df_record['style']\n",
    "        ))\n",
    "        \n",
    "        current_amount += 1 \n",
    "\n",
    "    \n",
    "    df_augmented = pd.DataFrame(augmented_data, columns=df_transform.columns)\n",
    "    return pd.concat([df_transform, df_augmented], ignore_index=True)\n",
    "        \n",
    "        \n",
    "def transform(df: pd.DataFrame) -> pd.DataFrame:\n",
    "    df_transform = None\n",
    "    for furniture, style in category_combinations:\n",
    "        print(furniture, style)\n",
    "        df_category = df[(df['furniture'] == furniture) & (df['style'] == style)][:2]\n",
    "\n",
    "        # Resize  first\n",
    "        df_resized =  resize_image(df_category)\n",
    "        \n",
    "        df_transform = df_resized if df_transform is None else pd.concat([df_transform, df_resized], ignore_index=True)\n",
    "        \n",
    "        # Random pick an image in transformed image, then perform aumgnetation\n",
    "        df_transform = advanced_transform(df_transform)\n",
    "\n",
    "    \n",
    "    return df_transform\n",
    "        "
   ]
  },
  {
   "cell_type": "code",
   "execution_count": null,
   "id": "11cf7e76-b03e-49c5-838b-cb0f96bf06f6",
   "metadata": {},
   "outputs": [],
   "source": [
    "dummy = transform(df)"
   ]
  },
  {
   "cell_type": "code",
   "execution_count": 133,
   "id": "bad017e9-cc1b-4c93-9530-611fce59bf2a",
   "metadata": {},
   "outputs": [
    {
     "data": {
      "text/plain": [
       "6146    ./Furniture_Data/beds/Asian/7842asian-platform...\n",
       "6147    ./Transfomed_Furniture_Data/beds/Asian/7873asi...\n",
       "6148    ./Transfomed_Furniture_Data/beds/Asian/2537asi...\n",
       "6149    ./Transfomed_Furniture_Data/beds/Asian/7577asi...\n",
       "6150    ./Transfomed_Furniture_Data/beds/Asian/7842asi...\n",
       "Name: path, dtype: object"
      ]
     },
     "execution_count": 133,
     "metadata": {},
     "output_type": "execute_result"
    }
   ],
   "source": [
    "dummy.tail().path"
   ]
  },
  {
   "cell_type": "code",
   "execution_count": null,
   "id": "670658f6-c7ec-4fa4-a19e-52c0e8b740fb",
   "metadata": {},
   "outputs": [],
   "source": []
  }
 ],
 "metadata": {
  "kernelspec": {
   "display_name": "myenv",
   "language": "python",
   "name": "myenv"
  },
  "language_info": {
   "codemirror_mode": {
    "name": "ipython",
    "version": 3
   },
   "file_extension": ".py",
   "mimetype": "text/x-python",
   "name": "python",
   "nbconvert_exporter": "python",
   "pygments_lexer": "ipython3",
   "version": "3.10.13"
  }
 },
 "nbformat": 4,
 "nbformat_minor": 5
}
